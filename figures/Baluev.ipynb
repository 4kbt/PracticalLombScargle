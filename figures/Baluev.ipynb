{
 "cells": [
  {
   "cell_type": "markdown",
   "metadata": {},
   "source": [
    "# False Alarm Probabilities"
   ]
  },
  {
   "cell_type": "code",
   "execution_count": 1,
   "metadata": {
    "collapsed": false
   },
   "outputs": [],
   "source": [
    "%matplotlib inline\n",
    "import matplotlib.pyplot as plt\n",
    "import numpy as np\n",
    "from astropy.stats import LombScargle\n",
    "\n",
    "plt.style.use('seaborn-whitegrid')"
   ]
  },
  {
   "cell_type": "code",
   "execution_count": 2,
   "metadata": {
    "collapsed": true
   },
   "outputs": [],
   "source": [
    "def make_data(N, T=100, period=0.6, amp=(1, 0.6, 0.3), err=0.1,\n",
    "              err_range=0.0, alias_period=1, alias_level=0,\n",
    "              return_model=False, rseed=None):\n",
    "    rng = np.random.RandomState(rseed)\n",
    "    t = T * rng.rand(N)\n",
    "    t -= (t % alias_period) * alias_level\n",
    "    phase = rng.rand(len(amp))[:, None]\n",
    "    def model(t, amp=amp, phase=phase, period=period):\n",
    "        k = np.arange(1, len(amp) + 1)[:, None]\n",
    "        return np.dot(amp, np.sin(2 * np.pi * k * (t - phase) / period))\n",
    "    dy = err + err_range * np.random.rand(N)\n",
    "    y = model(t) + dy * rng.randn(N)\n",
    "    if return_model:\n",
    "        return t, y, dy, model\n",
    "    else:\n",
    "        return t, y, dy"
   ]
  },
  {
   "cell_type": "markdown",
   "metadata": {},
   "source": [
    "## Baluev Method"
   ]
  },
  {
   "cell_type": "code",
   "execution_count": 3,
   "metadata": {
    "collapsed": false
   },
   "outputs": [],
   "source": [
    "from scipy.special import gammaln\n",
    "\n",
    "\n",
    "def weighted_sum(val, dy):\n",
    "    return (val / dy ** 2).sum()\n",
    "\n",
    "\n",
    "def weighted_mean(val, dy):\n",
    "    return weighted_sum(val, dy) / weighted_sum(np.ones_like(val), dy)\n",
    "\n",
    "\n",
    "def weighted_var(val, dy):\n",
    "    return weighted_mean(val ** 2, dy) - weighted_mean(val, dy) ** 2\n",
    "\n",
    "\n",
    "def gamma(N):\n",
    "    # Note: this is closely approximated by (1 - 1 / N) for large N\n",
    "    return np.sqrt(2 / N) * np.exp(gammaln(N / 2) - gammaln((N - 1) / 2))\n",
    "\n",
    "\n",
    "def FAP_single(Z, N, normalization='standard'):\n",
    "    \"\"\"False Alarm Probability for a single observation\"\"\"\n",
    "    NH = N - 1  # DOF for null hypothesis\n",
    "    NK = N - 3  # DOF for periodic hypothesis\n",
    "    if normalization == 'psd':\n",
    "        return np.exp(-Z)\n",
    "    elif normalization == 'standard':\n",
    "        # Note: astropy's standard normalization is Z = 2/NH * z_1 in Baluev's terms\n",
    "        return (1 - Z) ** (NK / 2)\n",
    "    elif normalization == 'model':\n",
    "        # Note: astropy's model normalization is Z = 2/NK * z_2 in Baluev's terms\n",
    "        return (1 + Z) ** -(NK / 2)\n",
    "    elif normalization == 'log':\n",
    "        # Note: astropy's log normalization is Z = 2/NK * z_3 in Baluev's terms\n",
    "        return np.exp(-0.5 * NK * Z)\n",
    "    else:\n",
    "        raise NotImplementedError(\"normalization={0}\".format(normalization))\n",
    "        \n",
    "\n",
    "def P_single(Z, N, normalization='standard'):\n",
    "    \"\"\"Cumulative Probability for a single observation\"\"\"\n",
    "    return 1 - FAP_single(Z, N, normalization=normalization)\n",
    "        \n",
    "    \n",
    "def FAP_estimated(Z, N, fmax, t, normalization='standard'):\n",
    "    \"\"\"False Alarm Probability based on estimated number of indep frequencies\"\"\"\n",
    "    T = max(t) - min(t)\n",
    "    N_eff = fmax * T\n",
    "    return 1 - P_single(Z, N, normalization=normalization) ** N_eff\n",
    "\n",
    "\n",
    "def tau_davies(Z, N, fmax, t, y, dy, normalization='standard'):\n",
    "    \"\"\"tau factor for estimating Davies bound (see Baluev 2008, Table 1)\"\"\"\n",
    "    # Variable names follow the discussion in Baluev 2008\n",
    "    NH = N - 1  # DOF for null hypothesis\n",
    "    NK = N - 3  # DOF for periodic hypothesis\n",
    "    Dt = weighted_var(t, dy)\n",
    "    Teff = np.sqrt(4 * np.pi * Dt)\n",
    "    W = fmax * Teff\n",
    "    if normalization == 'psd':\n",
    "        return W * np.exp(-Z) * np.sqrt(Z)\n",
    "    elif normalization == 'standard':\n",
    "        # Note: astropy's standard normalization is Z = 2/NH * z_1 in Baluev's terms\n",
    "        return gamma(NH) * W * (1 - Z) ** (0.5 * (NK - 1)) * np.sqrt(NH * Z / 2)\n",
    "    elif normalization == 'model':\n",
    "        # Note: astropy's model normalization is Z = 2/NK * z_2 in Baluev's terms\n",
    "        return gamma(NK) * W * (1 + Z) ** (- 0.5 * NK) * np.sqrt(NK * Z / 2)\n",
    "    elif normalization == 'log':\n",
    "        # Note: astropy's log normalization is Z = 2/NK * z_3 in Baluev's terms\n",
    "        return gamma(NK) * W * np.exp(-0.5 * Z * (NK - 0.5)) * np.sqrt(NK * np.sinh(0.5 * Z))\n",
    "    else:\n",
    "        raise NotImplementedError(\"normalization={0}\".format(normalization))\n",
    "\n",
    "    \n",
    "def FAP_davies(Z, N, fmax, t, y, dy, normalization='standard'):\n",
    "    \"\"\"Davies bound (Eqn 5 of Baluev 2008)\"\"\"\n",
    "    FAP_s = FAP_single(Z, N, normalization=normalization)\n",
    "    tau = tau_davies(Z, N, fmax, t, y, dy, normalization=normalization)\n",
    "    return FAP_s + tau\n",
    "\n",
    "\n",
    "def FAP_aliasfree(Z, N, fmax, t, y, dy, normalization='standard'):\n",
    "    \"\"\"Alias-free approximation to FAP (Eqn 6 of Baluev 2008)\"\"\"\n",
    "    P_s = P_single(Z, N, normalization=normalization)\n",
    "    tau = tau_davies(Z, N, fmax, t, y, dy, normalization=normalization)\n",
    "    return 1 - P_s * np.exp(-tau)"
   ]
  },
  {
   "cell_type": "code",
   "execution_count": 4,
   "metadata": {
    "collapsed": true
   },
   "outputs": [],
   "source": [
    "def FAP_bootstrap(Z, t, y, dy, fmax, n_bootstraps=1000,\n",
    "                  random_seed=None, normalization='standard'):\n",
    "    rng = np.random.RandomState(random_seed)\n",
    "    \n",
    "    def bootstrapped_power():\n",
    "        resample = rng.randint(0, len(y), len(y))  # sample with replacement\n",
    "        ls_boot = LombScargle(t, y[resample], dy[resample])\n",
    "        freq, power = ls_boot.autopower(normalization=normalization,\n",
    "                                        maximum_frequency=fmax)\n",
    "        return power.max()\n",
    "    \n",
    "    pmax = np.array([bootstrapped_power() for i in range(n_bootstraps)])\n",
    "    pmax.sort()\n",
    "    \n",
    "    return 1 - np.searchsorted(pmax, Z) / len(pmax)"
   ]
  },
  {
   "cell_type": "code",
   "execution_count": 5,
   "metadata": {
    "collapsed": true
   },
   "outputs": [],
   "source": [
    "import os\n",
    "def cached(filename, overwrite=False):\n",
    "    def decorator(func):\n",
    "        def new_func(*args, **kwargs):\n",
    "            if overwrite or not os.path.exists(filename):\n",
    "                np.save(filename, func(*args, **kwargs))\n",
    "            return np.load(filename)\n",
    "        return new_func\n",
    "    return decorator"
   ]
  },
  {
   "cell_type": "code",
   "execution_count": 6,
   "metadata": {
    "collapsed": false
   },
   "outputs": [
    {
     "data": {
      "image/png": "[encoded data removed]",
      "text/plain": [
       "<matplotlib.figure.Figure at 0x1034517b8>"
      ]
     },
     "metadata": {},
     "output_type": "display_data"
    }
   ],
   "source": [
    "Z = np.linspace(0, 0.3, 100)\n",
    "fmax = 10\n",
    "T = 5\n",
    "N = 100\n",
    "normalization='standard'\n",
    "\n",
    "t, y, dy = make_data(N=N, T=T, amp=[0], err=1.0, err_range=0.0, rseed=1324)\n",
    "FAP_bootstrap_cached = cached('FAP-cache.npy', overwrite=False)(FAP_bootstrap)\n",
    "FAP_boot = FAP_bootstrap_cached(Z, t, y, dy, fmax=fmax, normalization=normalization,\n",
    "                                n_bootstraps=10000, random_seed=1324)\n",
    "\n",
    "fig, ax = plt.subplots(figsize=(8, 5))\n",
    "ax.semilogy(Z, FAP_boot, '-', color='gray', label='Monte Carlo simulation')\n",
    "ax.semilogy(Z, FAP_aliasfree(Z, N, fmax, t, y, dy, normalization=normalization), '--k', label='Baluev method')\n",
    "ax.semilogy(Z, FAP_estimated(Z, N, fmax, t, normalization=normalization), ':k', label='$N_{eff}$ method')\n",
    "\n",
    "ax.legend()\n",
    "\n",
    "ax.set(xlim=(Z.min(), Z.max()), ylim=(1E-3, 2),\n",
    "       xlabel='Observed Maximum Peak Value',\n",
    "       ylabel='False Alarm Probability');\n",
    "\n",
    "fig.savefig('fig27_FAP_bootstrap.pdf')"
   ]
  }
 ],
 "metadata": {
  "anaconda-cloud": {},
  "kernelspec": {
   "display_name": "Python 3.5",
   "language": "",
   "name": "python3.5"
  },
  "language_info": {
   "codemirror_mode": {
    "name": "ipython",
    "version": 3
   },
   "file_extension": ".py",
   "mimetype": "text/x-python",
   "name": "python",
   "nbconvert_exporter": "python",
   "pygments_lexer": "ipython3",
   "version": "3.5.1"
  }
 },
 "nbformat": 4,
 "nbformat_minor": 0
}
