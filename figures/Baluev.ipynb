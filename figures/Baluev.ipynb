{
 "cells": [
  {
   "cell_type": "markdown",
   "metadata": {},
   "source": [
    "# False Alarm Probabilities"
   ]
  },
  {
   "cell_type": "code",
   "execution_count": 1,
   "metadata": {
    "collapsed": false
   },
   "outputs": [],
   "source": [
    "%matplotlib inline\n",
    "import matplotlib.pyplot as plt\n",
    "import numpy as np\n",
    "from astropy.stats import LombScargle\n",
    "\n",
    "plt.style.use('seaborn-whitegrid')"
   ]
  },
  {
   "cell_type": "code",
   "execution_count": 2,
   "metadata": {
    "collapsed": true
   },
   "outputs": [],
   "source": [
    "def make_data(N, T=100, period=0.6, amp=(1, 0.6, 0.3), err=0.1,\n",
    "              alias_period=1, alias_level=0, return_model=False, rseed=None):\n",
    "    rng = np.random.RandomState(rseed)\n",
    "    t = T * rng.rand(N)\n",
    "    t -= (t % alias_period) * alias_level\n",
    "    phase = rng.rand(len(amp))[:, None]\n",
    "    def model(t, amp=amp, phase=phase, period=period):\n",
    "        k = np.arange(1, len(amp) + 1)[:, None]\n",
    "        return np.dot(amp, np.sin(2 * np.pi * k * (t - phase) / period))\n",
    "    dy = err + np.zeros(N)\n",
    "    y = model(t) + dy * rng.randn(N)\n",
    "    if return_model:\n",
    "        return t, y, dy, model\n",
    "    else:\n",
    "        return t, y, dy"
   ]
  },
  {
   "cell_type": "markdown",
   "metadata": {},
   "source": [
    "## Baluev Method"
   ]
  },
  {
   "cell_type": "code",
   "execution_count": 50,
   "metadata": {
    "collapsed": false
   },
   "outputs": [],
   "source": [
    "def FAP_single(Z, N, normalization='psd'):\n",
    "    \"\"\"False Alarm Probability for a single observation\"\"\"\n",
    "    if normalization == 'psd':\n",
    "        return np.exp(-Z)\n",
    "    else:\n",
    "        raise NotImplementedError(\"normalization={0}\".format(normalization))\n",
    "        \n",
    "\n",
    "def P_single(Z, N, normalization='psd'):\n",
    "    \"\"\"Cumulative Probability for a single observation\"\"\"\n",
    "    return 1 - FAP_single(Z, N, normalization=normalization)\n",
    "        \n",
    "    \n",
    "def FAP_estimated(Z, N, fmax, t, normalization='psd'):\n",
    "    \"\"\"False Alarm Probability based on estimated number of indep frequencies\"\"\"\n",
    "    T = max(t) - min(t)\n",
    "    N_eff = fmax * T\n",
    "    return 1 - P_single(Z, N, normalization=normalization) ** N_eff\n",
    "\n",
    "\n",
    "def tau_davies(Z, N, fmax, t, normalization='psd'):\n",
    "    \"\"\"tau factor for estimating Davies bound (see Baluev 2008, Table 1)\"\"\"\n",
    "    # Variable names follow the discussion in Baluev 2008\n",
    "    Dt = (t ** 2).mean() - t.mean() ** 2\n",
    "    Teff = np.sqrt(4 * np.pi * Dt)\n",
    "    W = fmax * Teff\n",
    "    if normalization == 'psd':\n",
    "        return W * np.exp(-Z) * np.sqrt(Z)\n",
    "    else:\n",
    "        raise NotImplementedError(\"normalization={0}\".format(normalization))\n",
    "\n",
    "    \n",
    "def FAP_davies(Z, N, fmax, t, normalization='psd'):\n",
    "    \"\"\"Davies bound (Eqn 5 of Baluev 2008)\"\"\"\n",
    "    FAP_s = FAP_single(Z, N, normalization=normalization)\n",
    "    tau = tau_davies(Z, N, fmax, t, normalization=normalization)\n",
    "    return FAP_s + tau\n",
    "\n",
    "\n",
    "def FAP_aliasfree(Z, N, fmax, t, normalization='psd'):\n",
    "    \"\"\"Alias-free approximation to FAP (Eqn 6 of Baluev 2008)\"\"\"\n",
    "    P_s = P_single(Z, N, normalization=normalization)\n",
    "    tau = tau_davies(Z, N, fmax, t, normalization=normalization)\n",
    "    return 1 - P_s * np.exp(-tau)"
   ]
  },
  {
   "cell_type": "code",
   "execution_count": 51,
   "metadata": {
    "collapsed": true
   },
   "outputs": [],
   "source": [
    "def FAP_bootstrap(Z, t, y, dy, fmax, n_bootstraps=1000,\n",
    "                  random_seed=None, normalization='psd'):\n",
    "    rng = np.random.RandomState(random_seed)\n",
    "    \n",
    "    def bootstrapped_power():\n",
    "        resample = rng.randint(0, len(y), len(y))  # sample with replacement\n",
    "        ls_boot = LombScargle(t, y[resample], dy[resample])\n",
    "        freq, power = ls_boot.autopower(normalization=normalization,\n",
    "                                        maximum_frequency=fmax)\n",
    "        return power.max()\n",
    "    \n",
    "    pmax = np.array([bootstrapped_power() for i in range(n_bootstraps)])\n",
    "    pmax.sort()\n",
    "    \n",
    "    return 1 - np.searchsorted(pmax, Z) / len(pmax)"
   ]
  },
  {
   "cell_type": "code",
   "execution_count": 101,
   "metadata": {
    "collapsed": false
   },
   "outputs": [
    {
     "data": {
      "image/png": "[encoded data removed]",
      "text/plain": [
       "<matplotlib.figure.Figure at 0x110546da0>"
      ]
     },
     "metadata": {},
     "output_type": "display_data"
    }
   ],
   "source": [
    "import os\n",
    "def cached(filename):\n",
    "    def decorator(func):\n",
    "        def new_func(*args, **kwargs):\n",
    "            if not os.path.exists(filename):\n",
    "                np.save(filename, func(*args, **kwargs))\n",
    "            return np.load(filename)\n",
    "        return new_func\n",
    "    return decorator\n",
    "\n",
    "Z = np.linspace(0, 20, 100)\n",
    "fmax = 10\n",
    "T = 5\n",
    "N = 1000\n",
    "\n",
    "t, y, dy = make_data(N=N, T=T, amp=[0], err=1, rseed=1324)\n",
    "FAP_boot = cached('FAP.npy')(FAP_bootstrap)(Z, t, y, dy, fmax=fmax,\n",
    "                                            n_bootstraps=10000, random_seed=1324)\n",
    "\n",
    "fig, ax = plt.subplots(figsize=(8, 5))\n",
    "ax.semilogy(Z, FAP_boot, '-', color='gray', label='Monte Carlo simulation')\n",
    "ax.semilogy(Z, FAP_aliasfree(Z, N, fmax, t), '--k', label='Baluev method')\n",
    "ax.semilogy(Z, FAP_estimated(Z, N, fmax, t), ':k', label='$N_{eff}$ method')\n",
    "\n",
    "ax.legend()\n",
    "\n",
    "ax.set(xlim=(0, 14), ylim=(1E-3, 2),\n",
    "       xlabel='Observed Maximum Peak Value',\n",
    "       ylabel='False Alarm Probability');"
   ]
  }
 ],
 "metadata": {
  "kernelspec": {
   "display_name": "Python 3.5",
   "language": "",
   "name": "python3.5"
  },
  "language_info": {
   "codemirror_mode": {
    "name": "ipython",
    "version": 3
   },
   "file_extension": ".py",
   "mimetype": "text/x-python",
   "name": "python",
   "nbconvert_exporter": "python",
   "pygments_lexer": "ipython3",
   "version": "3.5.1"
  }
 },
 "nbformat": 4,
 "nbformat_minor": 0
}
